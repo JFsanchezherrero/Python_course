{
 "cells": [
  {
   "cell_type": "markdown",
   "id": "8ab3af82",
   "metadata": {},
   "source": [
    "# Additional exercises for the P3 session\n"
   ]
  },
  {
   "cell_type": "markdown",
   "id": "11246e1c",
   "metadata": {},
   "source": [
    "## 1. Write a Python script to concatenate the following dictionaries to create a new one."
   ]
  },
  {
   "cell_type": "code",
   "execution_count": 1,
   "id": "88c9d3b5",
   "metadata": {},
   "outputs": [],
   "source": [
    "dic1={1:10, 2:20}\n",
    "dic2={3:30, 4:40}\n",
    "dic3={5:50,6:60}"
   ]
  },
  {
   "cell_type": "markdown",
   "id": "017de6a6",
   "metadata": {},
   "source": [
    "Expected Result : {1: 10, 2: 20, 3: 30, 4: 40, 5: 50, 6: 60}\n"
   ]
  },
  {
   "cell_type": "code",
   "execution_count": 3,
   "id": "ab26942c",
   "metadata": {},
   "outputs": [
    {
     "name": "stdout",
     "output_type": "stream",
     "text": [
      "{1: 10, 2: 20, 3: 30, 4: 40, 5: 50, 6: 60}\n"
     ]
    }
   ],
   "source": [
    "new_dict = dic1.copy()\n",
    "new_dict.update(dic2)\n",
    "new_dict.update(dic3)\n",
    "\n",
    "print(new_dict)\n"
   ]
  },
  {
   "cell_type": "markdown",
   "id": "86d04dcb",
   "metadata": {},
   "source": [
    "## 2. Write a Python script to print a dictionary where the keys are numbers between 1 and 15 (both included) and the values are the square of the keys."
   ]
  },
  {
   "cell_type": "markdown",
   "id": "d7792b8a",
   "metadata": {},
   "source": [
    "Expected output: \n",
    "\n",
    "{1: 1, 2: 4, 3: 9, 4: 16, 5: 25, 6: 36, 7: 49, 8: 64, 9: 81, 10: 100, 11: 121, 12: 144, 13: 169, 14: 196, 15: 225}\n"
   ]
  },
  {
   "cell_type": "code",
   "execution_count": 10,
   "id": "0ff3d2c7",
   "metadata": {},
   "outputs": [
    {
     "name": "stdout",
     "output_type": "stream",
     "text": [
      "{1: 1, 2: 4, 3: 9, 4: 16, 5: 25, 6: 36, 7: 49, 8: 64, 9: 81, 10: 100, 11: 121, 12: 144, 13: 169, 14: 196, 15: 225}\n"
     ]
    }
   ],
   "source": [
    "dict_new = {}\n",
    "for i in range(1,16):\n",
    "    dict_new[i] = i**2\n",
    "    \n",
    "print(dict_new)"
   ]
  },
  {
   "cell_type": "markdown",
   "id": "90c0ce85",
   "metadata": {},
   "source": [
    "## 3. Write a Python program to combine two dictionary by adding values for common keys.\n"
   ]
  },
  {
   "cell_type": "code",
   "execution_count": 11,
   "id": "694485d0",
   "metadata": {},
   "outputs": [],
   "source": [
    "d1 = {'a': 100, 'b': 200, 'c':300}\n",
    "d2 = {'a': 300, 'b': 200, 'd':400}"
   ]
  },
  {
   "cell_type": "markdown",
   "id": "68280093",
   "metadata": {},
   "source": [
    "Expected output: \n",
    "\n",
    "{'a': 400, 'b': 400, 'd': 400, 'c': 300}"
   ]
  },
  {
   "cell_type": "markdown",
   "id": "89e72a7e",
   "metadata": {},
   "source": [
    "Use `Counter` from the `collections` package. See details [here](https://www.digitalocean.com/community/tutorials/python-counter-python-collections-counter)"
   ]
  },
  {
   "cell_type": "code",
   "execution_count": 15,
   "id": "5441af14",
   "metadata": {},
   "outputs": [
    {
     "name": "stdout",
     "output_type": "stream",
     "text": [
      "Counter({'a': 400, 'b': 400, 'd': 400, 'c': 300})\n"
     ]
    }
   ],
   "source": [
    "from collections import Counter\n",
    "d3 = Counter(d1) + Counter(d2)\n",
    "print(d3)"
   ]
  },
  {
   "cell_type": "markdown",
   "id": "195e94db",
   "metadata": {},
   "source": [
    "## 4. Write a program to get the maximum and minimum value of dictionary."
   ]
  },
  {
   "cell_type": "code",
   "execution_count": 27,
   "id": "9aecd0fd",
   "metadata": {},
   "outputs": [],
   "source": [
    "ex_dict = { \"m1\" : 78 , \"m2\" : 89 , \"m3\" : 64 , \"m4\" : 35 , \"m5\" : 71 }"
   ]
  },
  {
   "cell_type": "code",
   "execution_count": 29,
   "id": "8f125ce6",
   "metadata": {},
   "outputs": [
    {
     "data": {
      "text/plain": [
       "35"
      ]
     },
     "execution_count": 29,
     "metadata": {},
     "output_type": "execute_result"
    }
   ],
   "source": [
    "min(ex_dict.values())"
   ]
  },
  {
   "cell_type": "code",
   "execution_count": 30,
   "id": "72aa8329",
   "metadata": {},
   "outputs": [
    {
     "data": {
      "text/plain": [
       "89"
      ]
     },
     "execution_count": 30,
     "metadata": {},
     "output_type": "execute_result"
    }
   ],
   "source": [
    "max(ex_dict.values())"
   ]
  },
  {
   "cell_type": "markdown",
   "id": "1206939c",
   "metadata": {},
   "source": [
    "## 5. Write a program to sum all the values of a dictionary."
   ]
  },
  {
   "cell_type": "code",
   "execution_count": 31,
   "id": "6b1b6dff",
   "metadata": {},
   "outputs": [],
   "source": [
    "ex_dict2 = { \"m1\" : 92 , \"m2\" : 56 , \"m3\" : 88 , \"m4\" : 97 , \"m5\" : 89 }"
   ]
  },
  {
   "cell_type": "code",
   "execution_count": 32,
   "id": "b80fec88",
   "metadata": {},
   "outputs": [
    {
     "data": {
      "text/plain": [
       "422"
      ]
     },
     "execution_count": 32,
     "metadata": {},
     "output_type": "execute_result"
    }
   ],
   "source": [
    "sum(ex_dict2.values())"
   ]
  },
  {
   "cell_type": "markdown",
   "id": "e175f1cb",
   "metadata": {},
   "source": [
    "## 6. Python program to create a new dictionary by extracting the keys from a given dictionary."
   ]
  },
  {
   "cell_type": "code",
   "execution_count": 34,
   "id": "c27f05ae",
   "metadata": {},
   "outputs": [],
   "source": [
    "d1 = {\"one\":11, \"two\":22, \"three\":33, \"four\":44, \"five\":55}\n",
    "keys = ['two', 'five']"
   ]
  },
  {
   "cell_type": "code",
   "execution_count": 35,
   "id": "dc0b7a8d",
   "metadata": {},
   "outputs": [
    {
     "name": "stdout",
     "output_type": "stream",
     "text": [
      "{'two': 22, 'five': 55}\n"
     ]
    }
   ],
   "source": [
    "d2={}\n",
    "for k in keys:\n",
    "   d2[k]=d1[k]\n",
    "print (d2)"
   ]
  },
  {
   "cell_type": "code",
   "execution_count": null,
   "id": "d28fd627",
   "metadata": {},
   "outputs": [],
   "source": []
  }
 ],
 "metadata": {
  "kernelspec": {
   "display_name": "Python 3 (ipykernel)",
   "language": "python",
   "name": "python3"
  },
  "language_info": {
   "codemirror_mode": {
    "name": "ipython",
    "version": 3
   },
   "file_extension": ".py",
   "mimetype": "text/x-python",
   "name": "python",
   "nbconvert_exporter": "python",
   "pygments_lexer": "ipython3",
   "version": "3.9.13"
  }
 },
 "nbformat": 4,
 "nbformat_minor": 5
}
