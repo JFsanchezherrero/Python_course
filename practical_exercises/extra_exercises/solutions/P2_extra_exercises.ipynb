{
 "cells": [
  {
   "cell_type": "markdown",
   "id": "26c0c869",
   "metadata": {},
   "source": [
    "# Additional exercises for the P2 session\n"
   ]
  },
  {
   "cell_type": "markdown",
   "id": "05d079a0",
   "metadata": {},
   "source": [
    "## 1. Fibonacci series\n",
    "\n",
    "Create the Fibonnacci sequence (https://en.wikipedia.org/wiki/Fibonacci_sequence) using a `while`, `print(x, end=\" \")` and multiple variable assignment.\n",
    "\n",
    "Example: Fibonacci sequence up to 100\n",
    "```\n",
    "0 1 1 2 3 5 8 13 21 34 55 89 \n",
    "```"
   ]
  },
  {
   "cell_type": "code",
   "execution_count": 1,
   "id": "a52f98dd",
   "metadata": {},
   "outputs": [
    {
     "name": "stdout",
     "output_type": "stream",
     "text": [
      "0 1 1 2 3 5 8 13 21 34 55 89 "
     ]
    }
   ],
   "source": [
    "n = 100\n",
    "\n",
    "## initial assignment\n",
    "a, b = 0, 1\n",
    "\n",
    "while a < n:\n",
    "    print(a, end=\" \")\n",
    " \n",
    "    ## assign and add value a+b to b\n",
    "    a, b = b, a+b"
   ]
  },
  {
   "cell_type": "markdown",
   "id": "65e5122a",
   "metadata": {},
   "source": [
    "## 2. Remove some elements in a list\n",
    "\n",
    "Write a Python program to print a specified list after removing the 0th, 4th and 5th elements.\n",
    "```\n",
    "Sample List : ['Red', 'Green', 'White', 'Black', 'Pink', 'Yellow']\n",
    "Expected Output : ['Green', 'White', 'Black']\n",
    "```\n"
   ]
  },
  {
   "cell_type": "markdown",
   "id": "ee3a2615",
   "metadata": {},
   "source": [
    "First option, remove by index."
   ]
  },
  {
   "cell_type": "code",
   "execution_count": 2,
   "id": "2d672390",
   "metadata": {},
   "outputs": [
    {
     "name": "stdout",
     "output_type": "stream",
     "text": [
      "['Red', 'Green', 'White', 'Black', 'Pink', 'Yellow']\n"
     ]
    }
   ],
   "source": [
    "color = ['Red', 'Green', 'White', 'Black', 'Pink', 'Yellow']\n",
    "print(color)"
   ]
  },
  {
   "cell_type": "code",
   "execution_count": 3,
   "id": "33a2589d",
   "metadata": {},
   "outputs": [
    {
     "name": "stdout",
     "output_type": "stream",
     "text": [
      "[0, 4, 5]\n",
      "[5, 4, 0]\n"
     ]
    }
   ],
   "source": [
    "## Important to reverse the order because if we remove first the 0th, then the 4th and 5th will not be the original\n",
    "items2remove = [0,4,5]\n",
    "print(items2remove)\n",
    "items2remove.reverse()\n",
    "print(items2remove)"
   ]
  },
  {
   "cell_type": "code",
   "execution_count": 4,
   "id": "f2ce12b6",
   "metadata": {},
   "outputs": [
    {
     "name": "stdout",
     "output_type": "stream",
     "text": [
      "['Green', 'White', 'Black']\n"
     ]
    }
   ],
   "source": [
    "for i in items2remove:\n",
    "    color.pop(i)\n",
    "    \n",
    "print(color)"
   ]
  },
  {
   "cell_type": "markdown",
   "id": "d8ea95f3",
   "metadata": {},
   "source": [
    "Another option might be to remove by value"
   ]
  },
  {
   "cell_type": "code",
   "execution_count": 5,
   "id": "16f5f26f",
   "metadata": {},
   "outputs": [],
   "source": [
    "color = ['Red', 'Green', 'White', 'Black', 'Pink', 'Yellow']\n",
    "original_color = color.copy()\n",
    "items2remove = [0,4,5]"
   ]
  },
  {
   "cell_type": "code",
   "execution_count": 6,
   "id": "a602a257",
   "metadata": {},
   "outputs": [
    {
     "name": "stdout",
     "output_type": "stream",
     "text": [
      "Index: 0\n",
      "Element: Red\n",
      "Index: 4\n",
      "Element: Pink\n",
      "Index: 5\n",
      "Element: Yellow\n",
      "['Green', 'White', 'Black']\n"
     ]
    }
   ],
   "source": [
    "for i in items2remove:\n",
    "    print(\"Index: \" + str(i))\n",
    "    print(\"Element: \" + original_color[i])\n",
    "    color.remove(original_color[i])\n",
    "\n",
    "print(color)"
   ]
  },
  {
   "cell_type": "markdown",
   "id": "f167733b",
   "metadata": {},
   "source": [
    "## 3. Remove even numbers\n",
    "Write a Python program to print the numbers of a specified list after removing numbers in even indexes from it."
   ]
  },
  {
   "cell_type": "code",
   "execution_count": 7,
   "id": "4645675a",
   "metadata": {},
   "outputs": [
    {
     "name": "stdout",
     "output_type": "stream",
     "text": [
      "February is month number: 2\n",
      "April is month number: 4\n",
      "June is month number: 6\n",
      "August is month number: 8\n",
      "October is month number: 10\n",
      "December is month number: 12\n"
     ]
    }
   ],
   "source": [
    "list2check = [\"January\",\"February\",\"March\",\"April\",\"May\",\"June\",\n",
    "              \"July\",\"August\",\"September\",\"October\",\"November\",\"December\"]\n",
    "for i in range(len(list2check)):\n",
    "    if i!=0:\n",
    "        if i%2>0:\n",
    "            print(list2check[i] + \" is month number: \" + str(i + 1))\n",
    "    "
   ]
  },
  {
   "cell_type": "markdown",
   "id": "739c7c1c",
   "metadata": {},
   "source": [
    "## 4. Nested loops\n",
    "Write a Python program to create a list by concatenating a given list of characters with a range from 1 to n.\n",
    "\n",
    "```\n",
    "Sample list : ['p', 'q']\n",
    "n =5\n",
    "Sample Output : ['p1', 'q1', 'p2', 'q2', 'p3', 'q3', 'p4', 'q4', 'p5', 'q5']\n",
    "\n",
    "```"
   ]
  },
  {
   "cell_type": "code",
   "execution_count": 8,
   "id": "afba33e0",
   "metadata": {},
   "outputs": [
    {
     "name": "stdout",
     "output_type": "stream",
     "text": [
      "['p1', 'p2', 'p3', 'p4', 'p5', 'q1', 'q2', 'q3', 'q4', 'q5']\n"
     ]
    }
   ],
   "source": [
    "n=5\n",
    "list2grow = []\n",
    "for i in ['p', 'q']:\n",
    "    for j in range(1,n+1):\n",
    "        list2grow.append(i+str(j))\n",
    "\n",
    "print(list2grow)"
   ]
  },
  {
   "cell_type": "markdown",
   "id": "5af74cf5",
   "metadata": {},
   "source": [
    "## 5. Concatenate elements\n",
    "\n",
    "Write a Python program to generate lists of five consecutive numbers in a range from 1 to 100."
   ]
  },
  {
   "cell_type": "code",
   "execution_count": 9,
   "id": "f6ead148",
   "metadata": {},
   "outputs": [
    {
     "name": "stdout",
     "output_type": "stream",
     "text": [
      "[1, 2, 3, 4, 5]\n",
      "[6, 7, 8, 9, 10]\n",
      "[11, 12, 13, 14, 15]\n",
      "[16, 17, 18, 19, 20]\n",
      "[21, 22, 23, 24, 25]\n",
      "[26, 27, 28, 29, 30]\n",
      "[31, 32, 33, 34, 35]\n",
      "[36, 37, 38, 39, 40]\n",
      "[41, 42, 43, 44, 45]\n",
      "[46, 47, 48, 49, 50]\n",
      "[51, 52, 53, 54, 55]\n",
      "[56, 57, 58, 59, 60]\n",
      "[61, 62, 63, 64, 65]\n",
      "[66, 67, 68, 69, 70]\n",
      "[71, 72, 73, 74, 75]\n",
      "[76, 77, 78, 79, 80]\n",
      "[81, 82, 83, 84, 85]\n",
      "[86, 87, 88, 89, 90]\n",
      "[91, 92, 93, 94, 95]\n",
      "[96, 97, 98, 99, 100]\n"
     ]
    }
   ],
   "source": [
    "n=100\n",
    "cons=5\n",
    "i=1\n",
    "while i<n:\n",
    "    new_list = []\n",
    "    for j in range(1,cons+1):\n",
    "        new_list.append(i)\n",
    "        i += 1\n",
    "    \n",
    "    print(new_list)\n",
    "    "
   ]
  },
  {
   "cell_type": "code",
   "execution_count": 10,
   "id": "e4a18cb3",
   "metadata": {},
   "outputs": [
    {
     "name": "stdout",
     "output_type": "stream",
     "text": [
      "[1, 2, 3, 4, 5]\n",
      "[6, 7, 8, 9, 10]\n",
      "[11, 12, 13, 14, 15]\n",
      "[16, 17, 18, 19, 20]\n",
      "[21, 22, 23, 24, 25]\n",
      "[26, 27, 28, 29, 30]\n",
      "[31, 32, 33, 34, 35]\n",
      "[36, 37, 38, 39, 40]\n",
      "[41, 42, 43, 44, 45]\n",
      "[46, 47, 48, 49, 50]\n",
      "[51, 52, 53, 54, 55]\n",
      "[56, 57, 58, 59, 60]\n",
      "[61, 62, 63, 64, 65]\n",
      "[66, 67, 68, 69, 70]\n",
      "[71, 72, 73, 74, 75]\n",
      "[76, 77, 78, 79, 80]\n",
      "[81, 82, 83, 84, 85]\n",
      "[86, 87, 88, 89, 90]\n",
      "[91, 92, 93, 94, 95]\n",
      "[96, 97, 98, 99, 100]\n"
     ]
    }
   ],
   "source": [
    "list_of_elements = list(range(1,n+1))\n",
    "count=0\n",
    "for i in range( int(len(list_of_elements)/cons) ):\n",
    "    print(list_of_elements[count:count+cons])\n",
    "    count = count+cons\n"
   ]
  },
  {
   "cell_type": "markdown",
   "id": "88b91d9d",
   "metadata": {},
   "source": [
    "## 6. Difference between sets\n",
    "\n",
    "Write a Python program to compute the difference between two lists.\n",
    "```\n",
    "Sample data: [\"red\", \"orange\", \"green\", \"blue\", \"white\"], [\"black\", \"yellow\", \"green\", \"blue\"]\n",
    "Expected Output:\n",
    "Color1-Color2: ['white', 'orange', 'red']\n",
    "Color2-Color1: ['black', 'yellow']\n",
    "```"
   ]
  },
  {
   "cell_type": "code",
   "execution_count": 11,
   "id": "e46a8f85",
   "metadata": {},
   "outputs": [],
   "source": [
    "set1= {\"red\", \"orange\", \"green\", \"blue\", \"white\"}\n",
    "set2 = {\"black\", \"yellow\", \"green\", \"blue\"}"
   ]
  },
  {
   "cell_type": "code",
   "execution_count": 12,
   "id": "ea29ef9c",
   "metadata": {},
   "outputs": [
    {
     "data": {
      "text/plain": [
       "{'orange', 'red', 'white'}"
      ]
     },
     "execution_count": 12,
     "metadata": {},
     "output_type": "execute_result"
    }
   ],
   "source": [
    "set1.difference(set2)"
   ]
  },
  {
   "cell_type": "code",
   "execution_count": 13,
   "id": "2f609050",
   "metadata": {},
   "outputs": [
    {
     "data": {
      "text/plain": [
       "{'black', 'yellow'}"
      ]
     },
     "execution_count": 13,
     "metadata": {},
     "output_type": "execute_result"
    }
   ],
   "source": [
    "set2.difference(set1)"
   ]
  },
  {
   "cell_type": "markdown",
   "id": "d79f6e46",
   "metadata": {},
   "source": [
    "## 7. Extend or append?\n",
    "Write a Python program to replace the last element in a list with another list.\n",
    "```\n",
    "Sample data : [1, 3, 5, 7, 9, 10], [2, 4, 6, 8]\n",
    "Expected Output: [1, 3, 5, 7, 9, 2, 4, 6, 8]\n",
    "```"
   ]
  },
  {
   "cell_type": "code",
   "execution_count": 14,
   "id": "7f57258c",
   "metadata": {},
   "outputs": [],
   "source": [
    "list1 = [1, 3, 5, 7, 9, 10]\n",
    "list2 = [2, 4, 6, 8]"
   ]
  },
  {
   "cell_type": "code",
   "execution_count": 15,
   "id": "b4a3a6af",
   "metadata": {},
   "outputs": [
    {
     "name": "stdout",
     "output_type": "stream",
     "text": [
      "[1, 3, 5, 7, 9, 10, [2, 4, 6, 8]]\n"
     ]
    }
   ],
   "source": [
    "## append list2 at the end list1\n",
    "list1.append(list2)\n",
    "print(list1)"
   ]
  },
  {
   "cell_type": "code",
   "execution_count": 16,
   "id": "6f609ff6",
   "metadata": {},
   "outputs": [],
   "source": [
    "list1 = [1, 3, 5, 7, 9, 10]\n",
    "list2 = [2, 4, 6, 8]"
   ]
  },
  {
   "cell_type": "code",
   "execution_count": 17,
   "id": "36a8a932",
   "metadata": {},
   "outputs": [
    {
     "name": "stdout",
     "output_type": "stream",
     "text": [
      "[1, 3, 5, 7, 9, 10, 2, 4, 6, 8]\n"
     ]
    }
   ],
   "source": [
    "## extend lists\n",
    "list1.extend(list2)\n",
    "print(list1)"
   ]
  }
 ],
 "metadata": {
  "kernelspec": {
   "display_name": "Python 3 (ipykernel)",
   "language": "python",
   "name": "python3"
  },
  "language_info": {
   "codemirror_mode": {
    "name": "ipython",
    "version": 3
   },
   "file_extension": ".py",
   "mimetype": "text/x-python",
   "name": "python",
   "nbconvert_exporter": "python",
   "pygments_lexer": "ipython3",
   "version": "3.9.13"
  }
 },
 "nbformat": 4,
 "nbformat_minor": 5
}
