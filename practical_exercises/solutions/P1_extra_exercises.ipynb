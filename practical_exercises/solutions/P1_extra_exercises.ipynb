{
 "cells": [
  {
   "cell_type": "markdown",
   "id": "c276d580",
   "metadata": {},
   "source": [
    "# Additional exercises for the P1 session"
   ]
  },
  {
   "cell_type": "markdown",
   "id": "3087c4d5",
   "metadata": {},
   "source": [
    "## 1. Swap upper and lower cases\n",
    "\n",
    "Write a Python program to interchange cases in a given string.\n",
    "\n",
    "Sample Input -> Output\n",
    "\n",
    "```\n",
    "    pYTHON eXERCISES -> Python Exercises\n",
    "    jAVA -> Java\n",
    "    nUMpY -> Numpy\n",
    "```"
   ]
  },
  {
   "cell_type": "code",
   "execution_count": 1,
   "id": "b435e741",
   "metadata": {},
   "outputs": [
    {
     "data": {
      "text/plain": [
       "'Python Exercises'"
      ]
     },
     "execution_count": 1,
     "metadata": {},
     "output_type": "execute_result"
    }
   ],
   "source": [
    "\"pYTHON eXERCISES\".swapcase()"
   ]
  },
  {
   "cell_type": "code",
   "execution_count": 2,
   "id": "fd8979fc",
   "metadata": {},
   "outputs": [
    {
     "data": {
      "text/plain": [
       "'Java'"
      ]
     },
     "execution_count": 2,
     "metadata": {},
     "output_type": "execute_result"
    }
   ],
   "source": [
    "java_str = \"jAVA\"\n",
    "java_str.swapcase()"
   ]
  },
  {
   "cell_type": "code",
   "execution_count": 3,
   "id": "bff5a7d1",
   "metadata": {},
   "outputs": [
    {
     "data": {
      "text/plain": [
       "'NumPy'"
      ]
     },
     "execution_count": 3,
     "metadata": {},
     "output_type": "execute_result"
    }
   ],
   "source": [
    "\"nUMpY\".swapcase()"
   ]
  },
  {
   "cell_type": "markdown",
   "id": "8b708e24",
   "metadata": {},
   "source": [
    "## 2. Delete a given character\n",
    "\n",
    "Write a Python program to delete all occurrences of a specified character in a given string.\n",
    "```\n",
    "########################\n",
    "# Sample Input:\n",
    "# char=\"a\"\n",
    "# sentence = \"Example sentence\"\n",
    "# Output: Exmple sentence\n",
    "########################    \n",
    "```"
   ]
  },
  {
   "cell_type": "code",
   "execution_count": 4,
   "id": "c840d580",
   "metadata": {},
   "outputs": [
    {
     "name": "stdout",
     "output_type": "stream",
     "text": [
      "Exmple sentence\n"
     ]
    }
   ],
   "source": [
    "sentence=\"Example sentence\"\n",
    "\n",
    "print(sentence.replace(\"a\",\"\"))\n"
   ]
  },
  {
   "cell_type": "code",
   "execution_count": 5,
   "id": "7f17b633",
   "metadata": {},
   "outputs": [
    {
     "name": "stdout",
     "output_type": "stream",
     "text": [
      "Exampl sntnc\n"
     ]
    }
   ],
   "source": [
    "print(sentence.replace(\"e\",\"\"))\n"
   ]
  },
  {
   "cell_type": "markdown",
   "id": "b6f4141c",
   "metadata": {},
   "source": [
    "## 3. Special replace\n",
    "\n",
    "Write a Python program to get a string from a given string where all occurrences of its first char have been changed to `$`, except the first char itself.\n",
    "\n",
    "\n",
    "```\n",
    "########################\n",
    "# Sample Input -> Output\n",
    "# restart -> resta$t\n",
    "# example -> exampl$\n",
    "# test -> tes$\n",
    "########################\n",
    "```\n"
   ]
  },
  {
   "cell_type": "code",
   "execution_count": 6,
   "id": "9a816cb3",
   "metadata": {},
   "outputs": [
    {
     "name": "stdout",
     "output_type": "stream",
     "text": [
      "resta$t\n"
     ]
    }
   ],
   "source": [
    "str1=\"restart\"\n",
    "\n",
    "## Get first character\n",
    "char = str1[0]\n",
    "\n",
    "## replace by $\n",
    "str1 = str1.replace(char, '$')\n",
    "\n",
    "## add the original first character\n",
    "str1 = char + str1[1:]\n",
    "\n",
    "print(str1)"
   ]
  },
  {
   "cell_type": "markdown",
   "id": "9291e04c",
   "metadata": {},
   "source": [
    "## 4. Exchange characters\n",
    "\n",
    "Write a Python program to change a given string to a newly string where the first and last chars have been exchanged.\n",
    "\n",
    "```\n",
    "Sample Input -> Output\n",
    "# abcd -> dbca                                                                                                          \n",
    "# 12345 -> 52341\n",
    "``` "
   ]
  },
  {
   "cell_type": "code",
   "execution_count": 7,
   "id": "4cbfdf62",
   "metadata": {},
   "outputs": [
    {
     "data": {
      "text/plain": [
       "'ebcda'"
      ]
     },
     "execution_count": 7,
     "metadata": {},
     "output_type": "execute_result"
    }
   ],
   "source": [
    "str1=\"abcde\"\n",
    "str1[-1:] + str1[1:-1] + str1[:1]"
   ]
  },
  {
   "cell_type": "markdown",
   "id": "770d4ed2",
   "metadata": {},
   "source": [
    "## 5. Create HTML lines\n",
    "\n",
    "Write a Python function to create an HTML string with tags around the given word.\n",
    "```\n",
    "Sample Input:\n",
    "# word = \"Python\"\n",
    "# tag = \"i\"\n",
    "# output: <i>Python</i>\n",
    "```  "
   ]
  },
  {
   "cell_type": "code",
   "execution_count": 8,
   "id": "777dfcfc",
   "metadata": {},
   "outputs": [
    {
     "name": "stdout",
     "output_type": "stream",
     "text": [
      "<i>Python</i>\n"
     ]
    }
   ],
   "source": [
    "tag = \"i\"\n",
    "word = \"Python\"\n",
    "html_string = \"<%s>%s</%s>\" % (tag, word, tag)\n",
    "\n",
    "print(html_string)\n"
   ]
  },
  {
   "cell_type": "markdown",
   "id": "830c60f0",
   "metadata": {},
   "source": [
    "## 6. Repeat last characters\n",
    "\n",
    "Write a Python function to get a string made of 4 copies of the last two characters of a specified string (length must be at least 2).\n",
    "```\n",
    "Sample Input -> Output\n",
    "# Python -> onononon\n",
    "# test -> stststst\n",
    "```  \n"
   ]
  },
  {
   "cell_type": "code",
   "execution_count": 9,
   "id": "c5391b51",
   "metadata": {},
   "outputs": [
    {
     "data": {
      "text/plain": [
       "'onononon'"
      ]
     },
     "execution_count": 9,
     "metadata": {},
     "output_type": "execute_result"
    }
   ],
   "source": [
    "str1 = \"Python\"\n",
    "str1[-2:]*4"
   ]
  },
  {
   "cell_type": "markdown",
   "id": "95b2bd67",
   "metadata": {},
   "source": [
    "## 7. Insert strings in other string\n",
    "\n",
    "Write a Python function to insert a string in the middle of a string.\n",
    "```\n",
    "# Sample Input -> Output\n",
    "# '[[]]', 'Python' -> [[Python]]\n",
    "# '++', 'Test' -> +Test+\n",
    "# '<<<>>>', 'Test' -> <<<Test>>>\n",
    "```\n"
   ]
  },
  {
   "cell_type": "code",
   "execution_count": 10,
   "id": "ee5f8b8b",
   "metadata": {},
   "outputs": [
    {
     "name": "stdout",
     "output_type": "stream",
     "text": [
      "<<<>>>\n",
      "test\n",
      "<<<test>>>\n"
     ]
    }
   ],
   "source": [
    "char = \"<<<>>>\"\n",
    "senten = \"test\"\n",
    "mid = int(len(char)/2)\n",
    "final_str = char[:mid] + senten + char[mid:]\n",
    "\n",
    "print(char)\n",
    "print(senten)\n",
    "print(final_str)"
   ]
  },
  {
   "cell_type": "markdown",
   "id": "45c8aeb8",
   "metadata": {},
   "source": [
    "## 8. Format floating points\n",
    "Write a Python program to print the following numbers up to 2 decimal places.\n",
    "```\n",
    "# Sample Input -> Output\n",
    "#  3.1415926 -> 3.14\n",
    "#  12.9999 -> 13\n",
    "```"
   ]
  },
  {
   "cell_type": "code",
   "execution_count": 11,
   "id": "c4dbbe2f",
   "metadata": {},
   "outputs": [
    {
     "name": "stdout",
     "output_type": "stream",
     "text": [
      "\n",
      "Original Number:  3.14151616\n",
      "Formatted Number: 3.14\n"
     ]
    }
   ],
   "source": [
    "x=3.14151616\n",
    "print(\"\\nOriginal Number: \", x)\n",
    "print(\"Formatted Number: %.2f\"  %x)"
   ]
  },
  {
   "cell_type": "markdown",
   "id": "e50a369b",
   "metadata": {},
   "source": [
    "## 9. Commas and dots.\n",
    "\n",
    "Write a Python program to swap commas and dots in a string.\n",
    "```\n",
    "Sample Input -> Output\n",
    "# \"32.054,23\" -> \"32,054.23\"\n",
    "# 1.750,24 -> 1,750.24\n",
    "```"
   ]
  },
  {
   "cell_type": "code",
   "execution_count": 12,
   "id": "daae8bd7",
   "metadata": {},
   "outputs": [
    {
     "name": "stdout",
     "output_type": "stream",
     "text": [
      "Original:  32.054,23\n",
      "32,054.23\n"
     ]
    }
   ],
   "source": [
    "str1=\"32.054,23\"\n",
    "print(\"Original: \", str1)\n",
    "str1 = str1.replace(',', 'test')\n",
    "str1 = str1.replace('.', ',')\n",
    "str1 = str1.replace('test', '.')\n",
    "print(str1)"
   ]
  }
 ],
 "metadata": {
  "kernelspec": {
   "display_name": "Python 3 (ipykernel)",
   "language": "python",
   "name": "python3"
  },
  "language_info": {
   "codemirror_mode": {
    "name": "ipython",
    "version": 3
   },
   "file_extension": ".py",
   "mimetype": "text/x-python",
   "name": "python",
   "nbconvert_exporter": "python",
   "pygments_lexer": "ipython3",
   "version": "3.9.13"
  }
 },
 "nbformat": 4,
 "nbformat_minor": 5
}
